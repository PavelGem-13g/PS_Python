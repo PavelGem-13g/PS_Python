{
 "cells": [
  {
   "cell_type": "code",
   "execution_count": 2,
   "id": "b9793cbe-d7f7-4846-b285-0f5d22607647",
   "metadata": {},
   "outputs": [
    {
     "name": "stdout",
     "output_type": "stream",
     "text": [
      "\u001b[31mERROR: Could not find a version that satisfies the requirement scilearn (from versions: none)\u001b[0m\n",
      "\u001b[31mERROR: No matching distribution found for scilearn\u001b[0m\n",
      "Note: you may need to restart the kernel to use updated packages.\n"
     ]
    }
   ],
   "source": [
    "pip install scilearn"
   ]
  },
  {
   "cell_type": "code",
   "execution_count": null,
   "id": "fa4872b5-2d10-41de-b086-ce4784fc2ff1",
   "metadata": {},
   "outputs": [],
   "source": []
  }
 ],
 "metadata": {
  "kernelspec": {
   "display_name": "Python 3 (ipykernel)",
   "language": "python",
   "name": "python3"
  },
  "language_info": {
   "codemirror_mode": {
    "name": "ipython",
    "version": 3
   },
   "file_extension": ".py",
   "mimetype": "text/x-python",
   "name": "python",
   "nbconvert_exporter": "python",
   "pygments_lexer": "ipython3",
   "version": "3.9.12"
  }
 },
 "nbformat": 4,
 "nbformat_minor": 5
}
